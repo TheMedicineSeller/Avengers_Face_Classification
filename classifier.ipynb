{
 "cells": [
  {
   "cell_type": "markdown",
   "metadata": {},
   "source": [
    "A Face image recognizer and classifier that uses the inbuilt OpenCV Face classifier to recognize between 5 most popular actors from the Avengers movie franchise. Uses a haarCascade for detection of a face."
   ]
  },
  {
   "cell_type": "code",
   "execution_count": 1,
   "metadata": {},
   "outputs": [],
   "source": [
    "import os\n",
    "import cv2 as cv\n",
    "import numpy as np"
   ]
  },
  {
   "cell_type": "markdown",
   "metadata": {},
   "source": [
    "Getting the Absolute path to the images directory"
   ]
  },
  {
   "cell_type": "code",
   "execution_count": 2,
   "metadata": {},
   "outputs": [],
   "source": [
    "IMGS_PATH = os.path.join(os.getcwd(), \"Images\\\\train\")\n",
    "actors = ['chris_evans', 'chris_hemsworth', 'mark_ruffalo', 'robert_downey_jr', 'scarlett_johansson']"
   ]
  },
  {
   "cell_type": "markdown",
   "metadata": {},
   "source": [
    "Building the Facial cascade from its xml file "
   ]
  },
  {
   "cell_type": "code",
   "execution_count": 3,
   "metadata": {},
   "outputs": [],
   "source": [
    "FacialHC = cv.CascadeClassifier(\"haarcascade_face.xml\")"
   ]
  },
  {
   "cell_type": "markdown",
   "metadata": {},
   "source": [
    "A function to obtain the features and class labels of each of the respective images from the training data.\n",
    "\n",
    "Features include the area of the image that is detected to be a face by the facedetector.\n",
    "\n",
    "Labels correspond to the indices of the respective actors in the actors list."
   ]
  },
  {
   "cell_type": "code",
   "execution_count": 4,
   "metadata": {},
   "outputs": [],
   "source": [
    "def extract_features():\n",
    "    features = []\n",
    "    classLabels = []\n",
    "    for actor in actors:\n",
    "        dir_path = os.path.join(IMGS_PATH, actor)\n",
    "        label = actors.index(actor)\n",
    "        for image in os.listdir(dir_path):\n",
    "            img_path = os.path.join(dir_path, image)\n",
    "            img = cv.imread(img_path)\n",
    "            gray_img = cv.cvtColor(img, cv.COLOR_BGR2GRAY)\n",
    "\n",
    "            face_rectangles = FacialHC.detectMultiScale(gray_img, scaleFactor=1.1, minNeighbors=4)\n",
    "            for (x, y, w, h) in face_rectangles:\n",
    "                regionofInterest = gray_img[x : x+w, y : y+h]\n",
    "                features.append(regionofInterest)\n",
    "                classLabels.append(label)\n",
    "    return (features, classLabels)"
   ]
  },
  {
   "cell_type": "markdown",
   "metadata": {},
   "source": [
    "**Main** : getting the features, labels and instantiating an OpenCV FACErecognizer instance that trains on these features and labels."
   ]
  },
  {
   "cell_type": "code",
   "execution_count": 5,
   "metadata": {},
   "outputs": [
    {
     "name": "stdout",
     "output_type": "stream",
     "text": [
      "---------------Training complete----------------\n"
     ]
    }
   ],
   "source": [
    "features, labels = extract_features()\n",
    "features = np.array(features, dtype=object)\n",
    "labels = np.array(labels)\n",
    "\n",
    "face_recognizer = cv.face.LBPHFaceRecognizer_create()\n",
    "\n",
    "face_recognizer.train(features, labels)\n",
    "print(\"---------------Training complete----------------\")"
   ]
  },
  {
   "cell_type": "markdown",
   "metadata": {},
   "source": [
    "Saving the Model , can also save the features and labels as .npys (optional)"
   ]
  },
  {
   "cell_type": "code",
   "execution_count": 6,
   "metadata": {},
   "outputs": [],
   "source": [
    "face_recognizer.save(\"Trained_faces.yml\")\n",
    "\n",
    "np.save(\"Facefeatures.npy\", features)\n",
    "np.save(\"Faceclasses.npy\", labels)"
   ]
  },
  {
   "cell_type": "markdown",
   "metadata": {},
   "source": [
    "**Testing/Validating the model**"
   ]
  },
  {
   "cell_type": "code",
   "execution_count": 7,
   "metadata": {},
   "outputs": [],
   "source": [
    "face_recognizer.read(\"Trained_faces.yml\")\n",
    "TEST_PATH = os.path.join(os.getcwd(), \"Images\\\\test\")"
   ]
  },
  {
   "cell_type": "markdown",
   "metadata": {},
   "source": [
    "Selecting random test images from each of the actors"
   ]
  },
  {
   "cell_type": "code",
   "execution_count": 8,
   "metadata": {},
   "outputs": [],
   "source": [
    "import random"
   ]
  },
  {
   "cell_type": "code",
   "execution_count": 9,
   "metadata": {},
   "outputs": [],
   "source": [
    "tests = []\n",
    "\n",
    "for actor in actors:\n",
    "    actor_test_path = os.path.join(TEST_PATH, actor)\n",
    "    test_img_name = random.choice(os.listdir(actor_test_path))\n",
    "    test_img_path = os.path.join(actor_test_path, test_img_name)\n",
    "    img = cv.imread(test_img_path)\n",
    "    gray_img = cv.cvtColor(img, cv.COLOR_BGR2GRAY)\n",
    "    tests.append(gray_img)"
   ]
  },
  {
   "cell_type": "code",
   "execution_count": 12,
   "metadata": {},
   "outputs": [
    {
     "name": "stdout",
     "output_type": "stream",
     "text": [
      "Recognized chris_hemsworth !\n",
      "Recognized chris_evans !\n",
      "Recognized mark_ruffalo !\n",
      "Recognized robert_downey_jr !\n",
      "Recognized scarlett_johansson !\n"
     ]
    }
   ],
   "source": [
    "random.shuffle(tests)\n",
    "for test in tests:\n",
    "    face_rectangles = FacialHC.detectMultiScale(test, 1.1, 4)\n",
    "    for (x, y, w, h) in face_rectangles:\n",
    "        roi = test[x : x+w, y : y+h]\n",
    "        predicted_label, confidence = face_recognizer.predict(roi)\n",
    "        avenger = actors[predicted_label]\n",
    "        # print(f'Identified {avenger} with a confidence val of {confidence}')\n",
    "        print(f'Recognized {avenger} !')\n",
    "        remake = cv.cvtColor(test, cv.COLOR_GRAY2BGR)\n",
    "        cv.rectangle(remake, (x,y), (x + w, y + h), (0,255,0), thickness=1)\n",
    "        cv.putText(remake, str(actors[predicted_label]), (20,20), cv.FONT_HERSHEY_COMPLEX, 1.0, (0,255,255), thickness=2)\n",
    "        cv.imshow(\"Avenger detected\", remake)\n",
    "        cv.waitKey(0)"
   ]
  }
 ],
 "metadata": {
  "interpreter": {
   "hash": "4104e63838cbc6d347189e413f68cecdb45d8847c637bafe81b5b7948604c865"
  },
  "kernelspec": {
   "display_name": "Python 3.8.5 ('OpenCV')",
   "language": "python",
   "name": "python3"
  },
  "language_info": {
   "codemirror_mode": {
    "name": "ipython",
    "version": 3
   },
   "file_extension": ".py",
   "mimetype": "text/x-python",
   "name": "python",
   "nbconvert_exporter": "python",
   "pygments_lexer": "ipython3",
   "version": "3.8.13"
  },
  "orig_nbformat": 4
 },
 "nbformat": 4,
 "nbformat_minor": 2
}
